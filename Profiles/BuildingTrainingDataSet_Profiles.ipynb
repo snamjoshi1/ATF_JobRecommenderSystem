{
 "cells": [
  {
   "cell_type": "code",
   "execution_count": 1,
   "id": "4298dd37",
   "metadata": {},
   "outputs": [
    {
     "name": "stdout",
     "output_type": "stream",
     "text": [
      "Length: 24540 Sample Size: 2454.0\n",
      "Length: 24655 Sample Size: 2465.5\n",
      "Length: 15996 Sample Size: 1599.6000000000001\n",
      "Length: 672 Sample Size: 67.2\n",
      "'profile_skills.csv' has been created\n"
     ]
    }
   ],
   "source": [
    "#The purpose of the file is to extract all the phrases at once in a file from the models created from\n",
    "#the file Regex_Chunking_Profiles.ipynb\n",
    "import pandas as pd\n",
    "import pickle\n",
    "\n",
    "# chunks were taken from regex of POS tags located on google colab\n",
    "chunks1 = pickle.load( open('chunks_bio_1.pickle', \"rb\" ) )\n",
    "chunks2 = pickle.load( open('chunks_bio_2.pickle', \"rb\" ) )\n",
    "chunks3 = pickle.load( open('chunks_bio_3.pickle', \"rb\" ) )\n",
    "chunks4 = pickle.load( open('chunks_bio_4.pickle', \"rb\" ) )\n",
    "\n",
    "# Sample size is 10% and will be labeled accordingly. We can take more data.More Data will bring more variety\n",
    "#to the classification of Skills\n",
    "# perhaps a sample of a sample can be used depends on NN model\n",
    "print('Length:', len(chunks1), 'Sample Size:', len(chunks1) * .10)\n",
    "print('Length:', len(chunks2), 'Sample Size:', len(chunks2) * .10) \n",
    "print('Length:', len(chunks3), 'Sample Size:', len(chunks3) * .10)\n",
    "print('Length:', len(chunks4), 'Sample Size:', len(chunks4) * .10)\n",
    "\n",
    "def training_set(chunks):\n",
    "    '''creates a dataframe that easily parsed with the chunks data '''\n",
    "    df = pd.DataFrame(chunks)    \n",
    "    df.fillna('X', inplace = True)\n",
    "    \n",
    "    train = []\n",
    "    for row in df.values:\n",
    "        phrase = ''\n",
    "        for tup in row:\n",
    "            # needs a space at the end for seperation\n",
    "            phrase += tup[0] + ' '\n",
    "        phrase = ''.join(phrase)\n",
    "        # could use padding tages but encoder method will provide during \n",
    "        # tokenizing/embeddings; X can replace paddding for now\n",
    "        train.append( phrase.replace('X', '').strip())\n",
    "\n",
    "    df['phrase'] = train\n",
    "\n",
    "    return df['phrase']\n",
    "\n",
    "# one training corpus with 10% of each POS regex identification\n",
    "training = pd.concat([training_set(chunks1),\n",
    "                      training_set(chunks2), \n",
    "                      training_set(chunks3),\n",
    "                      training_set(chunks4)], \n",
    "                        ignore_index = True )\n",
    "\n",
    "training.to_csv('data\\profile_skills.csv')\n",
    "print(\"'profile_skills.csv' has been created\")\n"
   ]
  },
  {
   "cell_type": "code",
   "execution_count": null,
   "id": "67753e73",
   "metadata": {},
   "outputs": [],
   "source": []
  }
 ],
 "metadata": {
  "kernelspec": {
   "display_name": "Python 3 (ipykernel)",
   "language": "python",
   "name": "python3"
  },
  "language_info": {
   "codemirror_mode": {
    "name": "ipython",
    "version": 3
   },
   "file_extension": ".py",
   "mimetype": "text/x-python",
   "name": "python",
   "nbconvert_exporter": "python",
   "pygments_lexer": "ipython3",
   "version": "3.8.13"
  }
 },
 "nbformat": 4,
 "nbformat_minor": 5
}
